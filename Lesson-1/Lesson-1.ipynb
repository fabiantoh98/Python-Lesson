{
 "cells": [
  {
   "cell_type": "markdown",
   "metadata": {},
   "source": [
    "# Lesson 1"
   ]
  },
  {
   "cell_type": "markdown",
   "metadata": {},
   "source": [
    "## Fundamentals of Python\n",
    "- Print but not like your Printer!\n",
    "- Commenting in Python\n",
    "- Data Types\n",
    "- Converting Data\n",
    "- Mathematical Operations"
   ]
  },
  {
   "cell_type": "markdown",
   "metadata": {},
   "source": [
    "### Print but not like your Printer!\n",
    "\n",
    "the print() function is basically the most basic function. It is use to \"print\" the output we would like to see.\n",
    "\n",
    "print is usually use for testing of output/results or basically just show what you want to show!\n",
    "\n",
    "Replace Fab in the below code with your name and run the cell! \n",
    "\n",
    "To run the cell you may either click on the 'play' button when you select the code or use some shortcuts such as ctrl + Space, Shift + Space (shortcut may not work for all cases)"
   ]
  },
  {
   "cell_type": "code",
   "execution_count": 1,
   "metadata": {},
   "outputs": [
    {
     "name": "stdout",
     "output_type": "stream",
     "text": [
      "I am Fab!\n"
     ]
    }
   ],
   "source": [
    "print(\"I am Fab!\")"
   ]
  },
  {
   "cell_type": "markdown",
   "metadata": {},
   "source": [
    "### Commenting in Python\n",
    "\n",
    "Comments are \"notes\" within the code that doesn't do anything\n",
    "These notes will help you to remember what does your code does as well as letting others to know what you are coding"
   ]
  },
  {
   "cell_type": "code",
   "execution_count": null,
   "metadata": {},
   "outputs": [],
   "source": [
    "# This is a single-line comment in Python\n",
    "\n",
    "'''\n",
    "This is a multi-line comment in Python\n",
    "'''\n",
    "\n",
    "\"\"\"\n",
    "This is a also multi-line comment in Python \n",
    "\"\"\""
   ]
  },
  {
   "cell_type": "code",
   "execution_count": null,
   "metadata": {},
   "outputs": [],
   "source": []
  },
  {
   "cell_type": "code",
   "execution_count": null,
   "metadata": {},
   "outputs": [],
   "source": []
  },
  {
   "cell_type": "code",
   "execution_count": null,
   "metadata": {},
   "outputs": [],
   "source": []
  },
  {
   "cell_type": "code",
   "execution_count": null,
   "metadata": {},
   "outputs": [],
   "source": []
  },
  {
   "cell_type": "code",
   "execution_count": null,
   "metadata": {},
   "outputs": [],
   "source": []
  }
 ],
 "metadata": {
  "kernelspec": {
   "display_name": "Python 3",
   "language": "python",
   "name": "python3"
  },
  "language_info": {
   "codemirror_mode": {
    "name": "ipython",
    "version": 3
   },
   "file_extension": ".py",
   "mimetype": "text/x-python",
   "name": "python",
   "nbconvert_exporter": "python",
   "pygments_lexer": "ipython3",
   "version": "3.10.8"
  }
 },
 "nbformat": 4,
 "nbformat_minor": 2
}
