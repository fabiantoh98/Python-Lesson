{
 "cells": [
  {
   "cell_type": "markdown",
   "metadata": {},
   "source": [
    "# Lesson 4A"
   ]
  },
  {
   "cell_type": "markdown",
   "metadata": {},
   "source": [
    "This is a supplementary lesson to help you to get a better hang of how to code "
   ]
  },
  {
   "cell_type": "markdown",
   "metadata": {},
   "source": [
    "## Practising IF"
   ]
  },
  {
   "cell_type": "markdown",
   "metadata": {},
   "source": [
    "Write an if statement to determine if the bubble tea is cold\n",
    "\n",
    "- cold below 20 \n",
    "- warm 20 to 35 (inclusive)\n",
    "- Hot above 35\n",
    "\n",
    "Clue:\n",
    "```\n",
    "if temperature ... :\n",
    "    print(\"Hot\")\n",
    "```"
   ]
  },
  {
   "cell_type": "code",
   "execution_count": null,
   "metadata": {},
   "outputs": [],
   "source": [
    "from random import randint\n",
    "temperature = randint(1, 60)\n",
    "# Continue here\n",
    "\n"
   ]
  },
  {
   "cell_type": "markdown",
   "metadata": {},
   "source": [
    "Write an if statement to determine if the person is old\n",
    "\n",
    "- young below 20 \n",
    "- adult 20 to 60 (inclusive)\n",
    "- old above 60\n",
    "\n",
    "Clue:\n",
    "```\n",
    "if age ... :\n",
    "    print(\"old\")\n",
    "```"
   ]
  },
  {
   "cell_type": "code",
   "execution_count": null,
   "metadata": {},
   "outputs": [],
   "source": [
    "from random import randint\n",
    "temperature = randint(1, 100)\n",
    "# Continue here"
   ]
  },
  {
   "cell_type": "markdown",
   "metadata": {},
   "source": [
    "## Practising For Loop"
   ]
  },
  {
   "cell_type": "markdown",
   "metadata": {},
   "source": [
    "Loop are being used when you want to do something repeatedly\n",
    "\n",
    "For example, we want to run a particular set of code 10 times we will create a for loop that looks something like this\n",
    "\n",
    "```\n",
    "for i in range(0,10):\n",
    "    print(\"Wave\")\n",
    "```"
   ]
  },
  {
   "cell_type": "code",
   "execution_count": null,
   "metadata": {},
   "outputs": [],
   "source": [
    "for i in range(0,10):\n",
    "    print(\"Wave\")"
   ]
  },
  {
   "cell_type": "markdown",
   "metadata": {},
   "source": [
    "It is a good habit to chew 30 times before we swallow the food\n",
    "\n",
    "imagine print(\"nom\") means chewing 1 time, now create a for loop that will chew 30 times"
   ]
  },
  {
   "cell_type": "code",
   "execution_count": null,
   "metadata": {},
   "outputs": [],
   "source": [
    "print(\"nom\")"
   ]
  },
  {
   "cell_type": "markdown",
   "metadata": {},
   "source": [
    "After you chew 30 times, you have to swallow the food\n",
    "\n",
    "imagine print(\"gulp\") is swallowing the food \n",
    "\n",
    "Now copy your finished code from above and outside of the loop swallow the food"
   ]
  },
  {
   "cell_type": "code",
   "execution_count": null,
   "metadata": {},
   "outputs": [],
   "source": []
  },
  {
   "cell_type": "markdown",
   "metadata": {},
   "source": [
    "Now unless you have a really small appetite if is not possible that 1 \"mouth\" worth of food will fill you\n",
    "\n",
    "Let's create a simulation of eating a full meal\n",
    "\n",
    "Instead of printing \"nom\" 30 times, copy and edit your code below such that every 10 times you chew you will print \"nom\". Do not remove print(\"gulp\")"
   ]
  },
  {
   "cell_type": "code",
   "execution_count": null,
   "metadata": {},
   "outputs": [],
   "source": []
  },
  {
   "cell_type": "markdown",
   "metadata": {},
   "source": [
    "Now we will create a nested for loop to simulate for each mouth of food we will chew 30 times (print \"nom\" 3 times) and swallow it (print \"gulp\")\n",
    "\n",
    "clue:\n",
    "\n",
    "```\n",
    "for i in range(0, num_of_mouth):\n",
    "    Fill in the code from previous section!\n",
    "```"
   ]
  },
  {
   "cell_type": "code",
   "execution_count": null,
   "metadata": {},
   "outputs": [],
   "source": [
    "num_of_mouth = 10\n",
    "# Complete your code below\n"
   ]
  },
  {
   "cell_type": "markdown",
   "metadata": {},
   "source": [
    "## Practising While Loops"
   ]
  },
  {
   "cell_type": "markdown",
   "metadata": {},
   "source": [
    "Now instead of using a for loop do the exact same thing but with a while loop\n",
    "\n",
    "clue: \n",
    "```\n",
    "while num_of_mouth > 0:\n",
    "    ...\n",
    "    num_of_mouth -= ?\n",
    "```\n",
    "\n",
    "You may want to paste the for loop that print \"nom\" 3 times follow by \"gulp\" into this loop!"
   ]
  },
  {
   "cell_type": "code",
   "execution_count": null,
   "metadata": {},
   "outputs": [],
   "source": [
    "num_of_mouth = 5"
   ]
  },
  {
   "cell_type": "markdown",
   "metadata": {},
   "source": [
    "How to make your boss ANGRY!\n",
    "\n",
    "everyone got their threshold. Imagine everytime you poke your boss, his anger_threshold would minus 5 and he will explode when his anger threshold is less than or equals to 30. write a while loop and keep poking him till he explode HAHAHAHA!\n",
    "\n",
    "```\n",
    "while anger_threshold ... :\n",
    "    print(\"poke\")\n",
    "    anger_threshold -= ?\n",
    "    if anger_threshold ...:\n",
    "        print(\"Explode\")\n",
    "```"
   ]
  },
  {
   "cell_type": "code",
   "execution_count": null,
   "metadata": {},
   "outputs": [],
   "source": [
    "anger_threshold = 58"
   ]
  },
  {
   "cell_type": "markdown",
   "metadata": {},
   "source": [
    "## Practising Functions"
   ]
  },
  {
   "cell_type": "markdown",
   "metadata": {},
   "source": [
    "All function has the following format:\n",
    "\n",
    "There is no limit on how many arg you need but they need to have different name and separated by a comma. In fact, some functions do not have any arguements!\n",
    "\n",
    "You can name your function_name as anything you want\n",
    "\n",
    "return means to return back to your main code. In other words, it is like going home and if you need to bring \"something\" home, remember to include those values after return\n",
    "\n",
    "```\n",
    "def function_name(arg1, arg2, arg3):\n",
    "    return\n",
    "```\n",
    "\n",
    "Calling the function (aka running the function) is as follows:\n",
    "\n",
    "```\n",
    "function_name(arg1, arg2, arg3)\n",
    "```\n",
    "\n",
    "If you happen to bring \"something\" home, you have to store it as a variable and you can do it like this\n",
    "```\n",
    "var1 = function_name(arg1, arg2, arg3)\n",
    "```"
   ]
  },
  {
   "cell_type": "markdown",
   "metadata": {},
   "source": [
    "Write a set of code that will give me the average of math, english, science"
   ]
  },
  {
   "cell_type": "code",
   "execution_count": null,
   "metadata": {},
   "outputs": [],
   "source": [
    "math = 90\n",
    "english = 55\n",
    "science = 86\n",
    "\n",
    "# Finish the code\n",
    "average_score = \n",
    "\n",
    "print(\"Average score is: \", average_score)"
   ]
  },
  {
   "cell_type": "markdown",
   "metadata": {},
   "source": [
    "Now create a function that will help us to calculate average score\n",
    "\n",
    "```\n",
    "def calculate_avg_score(math, english, science):\n",
    "    average_score = ?\n",
    "    return average_score\n",
    "\n",
    "```"
   ]
  },
  {
   "cell_type": "markdown",
   "metadata": {},
   "source": [
    "Now call your function and print the results!"
   ]
  },
  {
   "cell_type": "code",
   "execution_count": null,
   "metadata": {},
   "outputs": [],
   "source": [
    "math = 90\n",
    "english = 55\n",
    "science = 86\n",
    "\n",
    "# call your function and print it!\n",
    "average_score = \n",
    "\n",
    "print(average_score)"
   ]
  },
  {
   "cell_type": "markdown",
   "metadata": {},
   "source": [
    "Now let's go back to the eating example. Create a function that will chew 30 times and swallow\n",
    "\n",
    "print(\"Nom\") for every 10 times you chew \n",
    "print(\"gulp\") everytime you swallow\n",
    "\n",
    "You don't need any arguement for this function (for now!)"
   ]
  },
  {
   "cell_type": "code",
   "execution_count": null,
   "metadata": {},
   "outputs": [],
   "source": []
  },
  {
   "cell_type": "code",
   "execution_count": null,
   "metadata": {},
   "outputs": [],
   "source": [
    "# Call your function over here to ensure it work properly!\n"
   ]
  },
  {
   "cell_type": "markdown",
   "metadata": {},
   "source": [
    "Now copy and paste your function and edit it such that for every mouth of food eaten you will simulate the eating and swallowing process\n",
    "\n",
    "```\n",
    "def eating(num_of_mouth):\n",
    "    for i in range(0, num_of_mouth):\n",
    "        ...\n",
    "    return\n",
    "```"
   ]
  },
  {
   "cell_type": "code",
   "execution_count": null,
   "metadata": {},
   "outputs": [],
   "source": []
  },
  {
   "cell_type": "code",
   "execution_count": null,
   "metadata": {},
   "outputs": [],
   "source": [
    "num_of_mouth = 6\n",
    "# Call your new function and see if it eats properly!\n"
   ]
  },
  {
   "cell_type": "markdown",
   "metadata": {},
   "source": [
    "You are probably pretty good now, let's increase the difficultly a little bit\n",
    "\n",
    "When we are at a buffet we want to eat till we are 120% full while other times we just want to reach 50% to lose weight\n",
    "\n",
    "Your tasks:\n",
    "- Add 2 additional argument to your function call target_fullness and fullness_level\n",
    "- edit the function such that when you hit your target_fullness stop eating\n",
    "- each time you each you should add 1 to your fullness level\n",
    "- after calling the function, let us know if you are full (clue: use an if statement to check if your fullness_level is more than fullness_target)"
   ]
  },
  {
   "cell_type": "code",
   "execution_count": null,
   "metadata": {},
   "outputs": [],
   "source": [
    "# Create your new function here"
   ]
  },
  {
   "cell_type": "code",
   "execution_count": null,
   "metadata": {},
   "outputs": [],
   "source": [
    "target_fullness = 7\n",
    "fullness_level = 2\n",
    "\n",
    "# Call your function here\n",
    "\n",
    "\n",
    "# print full if you are full and hungry if you are hungry\n"
   ]
  }
 ],
 "metadata": {
  "kernelspec": {
   "display_name": "Python 3",
   "language": "python",
   "name": "python3"
  },
  "language_info": {
   "codemirror_mode": {
    "name": "ipython",
    "version": 3
   },
   "file_extension": ".py",
   "mimetype": "text/x-python",
   "name": "python",
   "nbconvert_exporter": "python",
   "pygments_lexer": "ipython3",
   "version": "3.10.8"
  }
 },
 "nbformat": 4,
 "nbformat_minor": 2
}
