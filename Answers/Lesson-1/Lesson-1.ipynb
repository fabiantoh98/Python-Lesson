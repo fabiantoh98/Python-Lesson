{
 "cells": [
  {
   "cell_type": "markdown",
   "metadata": {},
   "source": [
    "# Lesson 1"
   ]
  },
  {
   "cell_type": "markdown",
   "metadata": {},
   "source": [
    "## Fundamentals of Python\n",
    "- Print but not like your Printer!\n",
    "- Commenting in Python\n",
    "- Data Types\n",
    "- What is a variable?\n",
    "- Converting Data\n",
    "- Mathematical Operations"
   ]
  },
  {
   "cell_type": "markdown",
   "metadata": {},
   "source": [
    "## Print but not like your Printer!\n",
    "\n",
    "the print() function is basically the most basic function. It is use to \"print\" the output we would like to see.\n",
    "\n",
    "print is usually use for testing of output/results or basically just show what you want to show!\n",
    "\n",
    "Replace Fab in the below code with your name and run the cell! \n",
    "\n",
    "To run the cell you may either click on the 'play' button when you select the code or use some shortcuts such as ctrl + Space, Shift + Space (shortcut may not work for all cases)"
   ]
  },
  {
   "cell_type": "code",
   "execution_count": 2,
   "metadata": {},
   "outputs": [
    {
     "name": "stdout",
     "output_type": "stream",
     "text": [
      "I am Fab!\n"
     ]
    }
   ],
   "source": [
    "print(\"I am Fab!\")"
   ]
  },
  {
   "cell_type": "markdown",
   "metadata": {},
   "source": [
    "Hands-On\n",
    "\n",
    "Print some words in the cell below!"
   ]
  },
  {
   "cell_type": "code",
   "execution_count": 3,
   "metadata": {},
   "outputs": [
    {
     "name": "stdout",
     "output_type": "stream",
     "text": [
      "Hello world!\n"
     ]
    }
   ],
   "source": [
    "print(\"Hello world!\")"
   ]
  },
  {
   "cell_type": "markdown",
   "metadata": {},
   "source": [
    "## Commenting in Python\n",
    "\n",
    "Comments are \"notes\" within the code that doesn't do anything\n",
    "These notes will help you to remember what does your code does as well as letting others to know what you are coding"
   ]
  },
  {
   "cell_type": "code",
   "execution_count": 4,
   "metadata": {},
   "outputs": [
    {
     "data": {
      "text/plain": [
       "'\\nThis is a also multi-line comment in Python \\n'"
      ]
     },
     "execution_count": 4,
     "metadata": {},
     "output_type": "execute_result"
    }
   ],
   "source": [
    "# This is a single-line comment in Python\n",
    "\n",
    "'''\n",
    "This is a multi-line comment in Python\n",
    "'''\n",
    "\n",
    "\"\"\"\n",
    "This is a also multi-line comment in Python \n",
    "\"\"\""
   ]
  },
  {
   "cell_type": "markdown",
   "metadata": {},
   "source": [
    "## Data Types\n",
    "type() is use to help us to identify the type of data"
   ]
  },
  {
   "cell_type": "markdown",
   "metadata": {},
   "source": [
    "### Numeric Data Type:\n",
    "- int (AKA Whole Number)\n",
    "- float (Number with Decimals)"
   ]
  },
  {
   "cell_type": "code",
   "execution_count": 5,
   "metadata": {},
   "outputs": [
    {
     "name": "stdout",
     "output_type": "stream",
     "text": [
      "7\n",
      "<class 'int'>\n"
     ]
    }
   ],
   "source": [
    "print(7)\n",
    "print(type(7))"
   ]
  },
  {
   "cell_type": "code",
   "execution_count": 6,
   "metadata": {},
   "outputs": [
    {
     "name": "stdout",
     "output_type": "stream",
     "text": [
      "7.7\n",
      "<class 'float'>\n"
     ]
    }
   ],
   "source": [
    "print(7.7)\n",
    "print(type(7.7))"
   ]
  },
  {
   "cell_type": "markdown",
   "metadata": {},
   "source": [
    "Text type:\n",
    "- string which is basically text that need to be either single or double quoted"
   ]
  },
  {
   "cell_type": "code",
   "execution_count": 7,
   "metadata": {},
   "outputs": [
    {
     "name": "stdout",
     "output_type": "stream",
     "text": [
      "word\n",
      "<class 'str'>\n"
     ]
    }
   ],
   "source": [
    "print('word')\n",
    "print(type('word'))"
   ]
  },
  {
   "cell_type": "code",
   "execution_count": 8,
   "metadata": {},
   "outputs": [
    {
     "name": "stdout",
     "output_type": "stream",
     "text": [
      "word\n",
      "<class 'str'>\n"
     ]
    }
   ],
   "source": [
    "print(\"word\")\n",
    "print(type(\"word\"))"
   ]
  },
  {
   "cell_type": "markdown",
   "metadata": {},
   "source": [
    "Long comments can also be used as string, this is espcially useful when you are storing a long paragraph of words"
   ]
  },
  {
   "cell_type": "code",
   "execution_count": 9,
   "metadata": {},
   "outputs": [
    {
     "name": "stdout",
     "output_type": "stream",
     "text": [
      "This is a string as well!\n",
      "<class 'str'>\n"
     ]
    }
   ],
   "source": [
    "print(\"\"\"This is a string as well!\"\"\")\n",
    "print(type(\"\"\"This is a string as well!\"\"\"))"
   ]
  },
  {
   "cell_type": "code",
   "execution_count": 10,
   "metadata": {},
   "outputs": [
    {
     "name": "stdout",
     "output_type": "stream",
     "text": [
      "So is this!\n",
      "<class 'str'>\n"
     ]
    }
   ],
   "source": [
    "print('''So is this!''')\n",
    "print(type('''So is this!'''))"
   ]
  },
  {
   "cell_type": "markdown",
   "metadata": {},
   "source": [
    "Did you know that if you quote integer or float it will be string as well?"
   ]
  },
  {
   "cell_type": "code",
   "execution_count": 11,
   "metadata": {},
   "outputs": [
    {
     "name": "stdout",
     "output_type": "stream",
     "text": [
      "1\n",
      "<class 'str'>\n"
     ]
    }
   ],
   "source": [
    "print(\"1\")\n",
    "print(type(\"1\"))"
   ]
  },
  {
   "cell_type": "code",
   "execution_count": 12,
   "metadata": {},
   "outputs": [
    {
     "name": "stdout",
     "output_type": "stream",
     "text": [
      "1.1\n",
      "<class 'str'>\n"
     ]
    }
   ],
   "source": [
    "print(\"1.1\")\n",
    "print(type(\"1.1\"))"
   ]
  },
  {
   "cell_type": "markdown",
   "metadata": {},
   "source": [
    "### Boolean\n",
    "Bool (AKA True or False)\n",
    "Since python is case sensitive, please note that the first letter is capitalise"
   ]
  },
  {
   "cell_type": "code",
   "execution_count": 13,
   "metadata": {},
   "outputs": [
    {
     "name": "stdout",
     "output_type": "stream",
     "text": [
      "True\n",
      "<class 'bool'>\n"
     ]
    }
   ],
   "source": [
    "print(True)\n",
    "print(type(True))"
   ]
  },
  {
   "cell_type": "code",
   "execution_count": 14,
   "metadata": {},
   "outputs": [
    {
     "name": "stdout",
     "output_type": "stream",
     "text": [
      "False\n",
      "<class 'bool'>\n"
     ]
    }
   ],
   "source": [
    "print(False)\n",
    "print(type(False))"
   ]
  },
  {
   "cell_type": "markdown",
   "metadata": {},
   "source": [
    "For experts: In python and many other context, True has a value of 1 and False has a value of 0"
   ]
  },
  {
   "cell_type": "markdown",
   "metadata": {},
   "source": [
    "### Complex Data Type\n",
    "- List > as it name suggest a list\n",
    "- Tuple > a list but it's value cannot be edited\n",
    "- Set > like a list but only contain unique values\n",
    "- Dictionary > something like a list but instead of using a number order (first, second ...) to identify we use keys"
   ]
  },
  {
   "cell_type": "code",
   "execution_count": 15,
   "metadata": {},
   "outputs": [
    {
     "name": "stdout",
     "output_type": "stream",
     "text": [
      "[1, 2, 3]\n",
      "<class 'list'>\n",
      "['John', 'Mary', 'Mark']\n",
      "<class 'list'>\n",
      "[1.1, 'Chicken', 5]\n",
      "<class 'list'>\n"
     ]
    }
   ],
   "source": [
    "# list uses square brackets []\n",
    "# A list of number\n",
    "print([1,2,3])\n",
    "print(type([1,2,3]))\n",
    "\n",
    "# A list of string\n",
    "print([\"John\", \"Mary\", \"Mark\"])\n",
    "print(type([\"John\", \"Mary\", \"Mark\"]))\n",
    "\n",
    "# A list of various combination (not encouraged but can be done)\n",
    "print([1.1, \"Chicken\", 5])\n",
    "print(type([1.1, \"Chicken\", 5]))"
   ]
  },
  {
   "cell_type": "code",
   "execution_count": 16,
   "metadata": {},
   "outputs": [
    {
     "name": "stdout",
     "output_type": "stream",
     "text": [
      "('John', 'Mary', 'Mark')\n",
      "<class 'tuple'>\n"
     ]
    }
   ],
   "source": [
    "# Tuple uses normal brackets ()\n",
    "# Tuple examples\n",
    "print((\"John\", \"Mary\", \"Mark\"))\n",
    "print(type((\"John\", \"Mary\", \"Mark\")))"
   ]
  },
  {
   "cell_type": "code",
   "execution_count": 17,
   "metadata": {},
   "outputs": [
    {
     "name": "stdout",
     "output_type": "stream",
     "text": [
      "{1, 2, 3}\n",
      "<class 'set'>\n"
     ]
    }
   ],
   "source": [
    "# set require you to use a set function on a list\n",
    "print(set([1,1,1,2,2,3,3,3]))\n",
    "print(type(set([1,1,1,2,2,3,3,3])))"
   ]
  },
  {
   "cell_type": "markdown",
   "metadata": {},
   "source": [
    "Dictionary require something know as a key-value pair\n",
    "- \"name\" : \"John\"\n",
    "- \"age\" : 18\n",
    "- \"weight\" : 76.4\n",
    "\n",
    "Each key-value pair is separated by a comma and surrounded by curly brackets"
   ]
  },
  {
   "cell_type": "code",
   "execution_count": 18,
   "metadata": {},
   "outputs": [
    {
     "name": "stdout",
     "output_type": "stream",
     "text": [
      "{'name': 'John', 'age': 18, 'weight': 76.4}\n",
      "<class 'dict'>\n"
     ]
    }
   ],
   "source": [
    "# Dictionary uses curly brackets {}\n",
    "print({\"name\" : \"John\", \"age\" : 18, \"weight\" : 76.4})\n",
    "print(type({\"name\" : \"John\", \"age\" : 18, \"weight\" : 76.4}))"
   ]
  },
  {
   "cell_type": "markdown",
   "metadata": {},
   "source": [
    "Are there some data type that you are expecting but didn't see in this section?\n",
    "\n",
    "hint: date, time etc\n",
    "\n",
    "These will not be taught in this section as it is not as straightforward as you think!"
   ]
  },
  {
   "cell_type": "markdown",
   "metadata": {},
   "source": [
    "Pop-Quiz\n",
    "\n",
    "Test yourself by typing the data type in the comment below the print statement"
   ]
  },
  {
   "cell_type": "code",
   "execution_count": 19,
   "metadata": {},
   "outputs": [
    {
     "name": "stdout",
     "output_type": "stream",
     "text": [
      "John\n",
      "3922312.123\n",
      "['Hi', 'I', 'am', 'calling', 'from', 'home']\n",
      "{'feeling': 'tired', 'work': True, 'hours': 8}\n",
      "False\n"
     ]
    }
   ],
   "source": [
    "print(\"John\")\n",
    "# \n",
    "print(3922312.123)\n",
    "# \n",
    "print([\"Hi\", \"I\", \"am\", \"calling\", \"from\", \"home\"])\n",
    "# \n",
    "print({\"feeling\": \"tired\", \"work\": True, \"hours\": 8})\n",
    "# \n",
    "print(False)\n",
    "# "
   ]
  },
  {
   "cell_type": "code",
   "execution_count": 20,
   "metadata": {},
   "outputs": [
    {
     "name": "stdout",
     "output_type": "stream",
     "text": [
      "<class 'str'>\n",
      "<class 'float'>\n",
      "<class 'list'>\n",
      "<class 'dict'>\n",
      "<class 'bool'>\n"
     ]
    }
   ],
   "source": [
    "# Check your Answers here!\n",
    "print(type(\"John\"))\n",
    "print(type(3922312.123))\n",
    "print(type([\"Hi\", \"I\", \"am\", \"calling\", \"from\", \"home\"]))\n",
    "print(type({\"feeling\": \"tired\", \"work\": True, \"hours\": 8}))\n",
    "print(type(False))"
   ]
  },
  {
   "cell_type": "markdown",
   "metadata": {},
   "source": [
    "## What is a variable?"
   ]
  },
  {
   "cell_type": "markdown",
   "metadata": {},
   "source": [
    "To keep it simple, you can imagine variable like a file that store all your data just that instead of having the actually file you can only use it in codes!"
   ]
  },
  {
   "cell_type": "code",
   "execution_count": 21,
   "metadata": {},
   "outputs": [],
   "source": [
    "# Creating/Declaring a variable call name\n",
    "name = \"Fabian\""
   ]
  },
  {
   "cell_type": "code",
   "execution_count": 22,
   "metadata": {},
   "outputs": [
    {
     "name": "stdout",
     "output_type": "stream",
     "text": [
      "Fabian\n",
      "<class 'str'>\n"
     ]
    }
   ],
   "source": [
    "print(name)\n",
    "print(type(name))"
   ]
  },
  {
   "cell_type": "markdown",
   "metadata": {},
   "source": [
    "there are some rules to declare these variables\n",
    "1. must start with an alphabet or underscore\n",
    "2. cannot start with number\n",
    "3. can only contain alphanumeric characters and underscore only\n",
    "4. are case-sensitive\n",
    "5. cannot be a python keyword (you will need experience for this)"
   ]
  },
  {
   "cell_type": "code",
   "execution_count": 23,
   "metadata": {},
   "outputs": [
    {
     "ename": "SyntaxError",
     "evalue": "invalid syntax (2299326079.py, line 4)",
     "output_type": "error",
     "traceback": [
      "\u001b[1;36m  Cell \u001b[1;32mIn[23], line 4\u001b[1;36m\u001b[0m\n\u001b[1;33m    if = \"hahaha\"\u001b[0m\n\u001b[1;37m       ^\u001b[0m\n\u001b[1;31mSyntaxError\u001b[0m\u001b[1;31m:\u001b[0m invalid syntax\n"
     ]
    }
   ],
   "source": [
    "# for beginner that do not have enough experience\n",
    "# when you see a syntax error this could be one of the reason\n",
    "\n",
    "if = \"hahaha\""
   ]
  },
  {
   "cell_type": "markdown",
   "metadata": {},
   "source": [
    "Hands-On\n",
    "\n",
    "Create your own variable call my_name and print it"
   ]
  },
  {
   "cell_type": "code",
   "execution_count": 24,
   "metadata": {},
   "outputs": [
    {
     "name": "stdout",
     "output_type": "stream",
     "text": [
      "John\n"
     ]
    }
   ],
   "source": [
    "my_name = \"John\"\n",
    "print(my_name)"
   ]
  },
  {
   "cell_type": "markdown",
   "metadata": {},
   "source": [
    "## Converting Data"
   ]
  },
  {
   "cell_type": "markdown",
   "metadata": {},
   "source": [
    "So we know that in python \"1\" is not equal to 1\n",
    "\n",
    "And here is how you can make it the same!"
   ]
  },
  {
   "cell_type": "code",
   "execution_count": 25,
   "metadata": {},
   "outputs": [
    {
     "name": "stdout",
     "output_type": "stream",
     "text": [
      "56.8\n",
      "<class 'str'>\n"
     ]
    }
   ],
   "source": [
    "# First we create a variable call level\n",
    "\n",
    "level = \"56.8\"\n",
    "print(level)\n",
    "print(type(level))"
   ]
  },
  {
   "cell_type": "code",
   "execution_count": 26,
   "metadata": {},
   "outputs": [
    {
     "name": "stdout",
     "output_type": "stream",
     "text": [
      "56.8\n",
      "<class 'float'>\n"
     ]
    }
   ],
   "source": [
    "# As level is a text we will not be able perform any mathematical operations so we have to convert it to float\n",
    "# by declaring the variable with the same name we will replace it's new value with the old one\n",
    "\n",
    "level = float(level)\n",
    "print(level)\n",
    "print(type(level))"
   ]
  },
  {
   "cell_type": "code",
   "execution_count": 27,
   "metadata": {},
   "outputs": [
    {
     "name": "stdout",
     "output_type": "stream",
     "text": [
      "56\n",
      "<class 'str'>\n"
     ]
    }
   ],
   "source": [
    "# In games, level is always a whole number so what should be do?\n",
    "\n",
    "level = \"56\"\n",
    "print(level)\n",
    "print(type(level))"
   ]
  },
  {
   "cell_type": "code",
   "execution_count": 28,
   "metadata": {},
   "outputs": [
    {
     "name": "stdout",
     "output_type": "stream",
     "text": [
      "56\n",
      "<class 'int'>\n"
     ]
    }
   ],
   "source": [
    "# By simply changing the float function to int!\n",
    "# Do note that it will automatically round down\n",
    "\n",
    "level = int(level)\n",
    "print(level)\n",
    "print(type(level))"
   ]
  },
  {
   "cell_type": "markdown",
   "metadata": {},
   "source": [
    "Hands-on\n",
    "\n",
    "So what should i do if i want to convert level back to string?\n",
    "\n",
    "hint: str()"
   ]
  },
  {
   "cell_type": "code",
   "execution_count": 29,
   "metadata": {},
   "outputs": [
    {
     "name": "stdout",
     "output_type": "stream",
     "text": [
      "56\n",
      "<class 'str'>\n"
     ]
    }
   ],
   "source": [
    "level = 56\n",
    "\n",
    "# Fill in the blank!\n",
    "level = str(56)\n",
    "\n",
    "print(level)\n",
    "print(type(level))"
   ]
  },
  {
   "cell_type": "markdown",
   "metadata": {},
   "source": [
    "## Mathematical Operations"
   ]
  },
  {
   "cell_type": "markdown",
   "metadata": {},
   "source": [
    "Basically just Maths\n",
    "\n",
    "We have the basic plus + , minus -, divide / and multiply * which is similar to excel\n",
    "\n",
    "and the slightly more complex ones like ...\n",
    "| Operator | Description |\n",
    "| --- | --- |\n",
    "| ** | exponent |\n",
    "|%, // | modulo, floor division|\n",
    "| ==, !=, <, <=, >, >= | comparison operators |\n",
    "| not | boolean NOT |\n",
    "| and | boolean AND |\n",
    "| or | boolean OR |"
   ]
  },
  {
   "cell_type": "code",
   "execution_count": 30,
   "metadata": {},
   "outputs": [
    {
     "name": "stdout",
     "output_type": "stream",
     "text": [
      "110\n"
     ]
    }
   ],
   "source": [
    "# Simple addition\n",
    "num_1 = 100\n",
    "num_2 = 10\n",
    "print(num_1 + num_2)"
   ]
  },
  {
   "cell_type": "code",
   "execution_count": 31,
   "metadata": {},
   "outputs": [
    {
     "name": "stdout",
     "output_type": "stream",
     "text": [
      "90\n"
     ]
    }
   ],
   "source": [
    "# Simple subtraction\n",
    "num_1 = 100\n",
    "num_2 = 10\n",
    "print(num_1 - num_2)"
   ]
  },
  {
   "cell_type": "code",
   "execution_count": 32,
   "metadata": {},
   "outputs": [
    {
     "name": "stdout",
     "output_type": "stream",
     "text": [
      "1000\n"
     ]
    }
   ],
   "source": [
    "# Simple multiplication\n",
    "num_1 = 100\n",
    "num_2 = 10\n",
    "print(num_1 * num_2)"
   ]
  },
  {
   "cell_type": "code",
   "execution_count": 33,
   "metadata": {},
   "outputs": [
    {
     "name": "stdout",
     "output_type": "stream",
     "text": [
      "10.0\n"
     ]
    }
   ],
   "source": [
    "# Simple division\n",
    "num_1 = 100\n",
    "num_2 = 10\n",
    "print(num_1 / num_2)"
   ]
  }
 ],
 "metadata": {
  "kernelspec": {
   "display_name": "Python 3",
   "language": "python",
   "name": "python3"
  },
  "language_info": {
   "codemirror_mode": {
    "name": "ipython",
    "version": 3
   },
   "file_extension": ".py",
   "mimetype": "text/x-python",
   "name": "python",
   "nbconvert_exporter": "python",
   "pygments_lexer": "ipython3",
   "version": "3.10.8"
  }
 },
 "nbformat": 4,
 "nbformat_minor": 2
}
