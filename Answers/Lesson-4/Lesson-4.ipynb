{
 "cells": [
  {
   "cell_type": "markdown",
   "metadata": {},
   "source": [
    "# Lesson 4"
   ]
  },
  {
   "cell_type": "markdown",
   "metadata": {},
   "source": [
    "## IF statement"
   ]
  },
  {
   "cell_type": "markdown",
   "metadata": {},
   "source": [
    "Given that you are now familiar with comparison operators, we will now use it in a real context!\n",
    "\n",
    "Just like Excel, in coding there is if statements and there is 3 parts to that\n",
    "\n",
    "1. if > (must have!) run the code that you have indented under if statement if the condition is true\n",
    "2. elif > run the code that you have indented under elif statement if the condition for if statement is false and elif condition is true\n",
    "3. else > when all if and elif statement conditions are false, all statement indented under else statement will run"
   ]
  },
  {
   "cell_type": "code",
   "execution_count": 1,
   "metadata": {},
   "outputs": [],
   "source": [
    "# simple if statement\n",
    "# a good practice to store variable with boolean data type usually start with is\n",
    "\n",
    "is_hungry = False\n",
    "if is_hungry:\n",
    "    print(\"Eating Bread .  .  .\")"
   ]
  },
  {
   "cell_type": "code",
   "execution_count": 2,
   "metadata": {},
   "outputs": [
    {
     "name": "stdout",
     "output_type": "stream",
     "text": [
      "If I eat, I will be fat!\n"
     ]
    }
   ],
   "source": [
    "# simple if with else statement\n",
    "# a good practice to store variable with boolean data type usually start with is\n",
    "\n",
    "is_hungry = False\n",
    "\n",
    "if is_hungry:\n",
    "    print(\"Eating Bread .  .  .\")\n",
    "else:\n",
    "    print(\"If I eat, I will be fat!\")"
   ]
  },
  {
   "cell_type": "markdown",
   "metadata": {},
   "source": [
    "We are human and not goldfish! We don't just eat because we are hungry there are many more other factors.\n",
    "\n",
    "To imitate some of these factors it will not be that simple"
   ]
  },
  {
   "cell_type": "code",
   "execution_count": 3,
   "metadata": {},
   "outputs": [
    {
     "name": "stdout",
     "output_type": "stream",
     "text": [
      "Sleeping Zzz\n"
     ]
    }
   ],
   "source": [
    "# Try if yourself\n",
    "# Change the value of the 2 variable below and see the results!\n",
    "\n",
    "is_hungry = False\n",
    "money_in_pocket = 20\n",
    "\n",
    "if not(is_hungry):\n",
    "    print(\"Sleeping Zzz\")\n",
    "elif is_hungry and money_in_pocket > 10:\n",
    "    print(\"Eating Fried Chicken .  .  .\")\n",
    "elif is_hungry and money_in_pocket >= 5:\n",
    "    print(\"Eating Nasi Lemak .  .  .\")\n",
    "else:\n",
    "    print(\"Eating Bread .  .  .\")"
   ]
  },
  {
   "cell_type": "markdown",
   "metadata": {},
   "source": [
    "NESTED IF\n",
    "\n",
    "It really become very irritating to type is_hungry over and over again just because the amount of money in pocket is different. That is where we use a nested if. In short we use a IF statement within a IF statement!"
   ]
  },
  {
   "cell_type": "code",
   "execution_count": 4,
   "metadata": {},
   "outputs": [
    {
     "name": "stdout",
     "output_type": "stream",
     "text": [
      "Roll on Floor Crying!\n"
     ]
    }
   ],
   "source": [
    "# Try if yourself\n",
    "# Change the value of the 3 variable below and see the results!\n",
    "\n",
    "is_hungry = True\n",
    "money_in_pocket = 20\n",
    "is_food_available = False\n",
    "\n",
    "if is_hungry and is_food_available:\n",
    "    if money_in_pocket > 10:\n",
    "        print(\"Eating Fried Chicken .  .  .\")\n",
    "    elif money_in_pocket >= 5:\n",
    "        print(\"Eating Nasi Lemak .  .  .\")\n",
    "    else:\n",
    "        print(\"Eating Bread .  .  .\")\n",
    "elif not(is_hungry):\n",
    "    print(\"Sleeping Zzz\")\n",
    "else:\n",
    "    print(\"Roll on Floor Crying!\")"
   ]
  },
  {
   "cell_type": "markdown",
   "metadata": {},
   "source": [
    "## Functions"
   ]
  },
  {
   "cell_type": "markdown",
   "metadata": {},
   "source": [
    "Up till now we have been using functions that is readily available now we will learn how to create our own functions!\n",
    "\n",
    "If you notice, I have been diligently copy and pasting the same code over and over again from lesson 1. With functions we just need to code once and reuse it over and over again Hehehe"
   ]
  },
  {
   "cell_type": "markdown",
   "metadata": {},
   "source": [
    "This is how an empty function would looks like:\n",
    "\n",
    "def name_of_function ():\n",
    "    return"
   ]
  },
  {
   "cell_type": "markdown",
   "metadata": {},
   "source": [
    "Below is a function that add num_1 and num_2 together. \n",
    "\n",
    "Understanding each component:\n",
    "\n",
    "- add_num > you can call your function whatever name you like but remember that you should follow rules that is applicableto naming a variable!\n",
    "- (num_1, num_2) > when you see bracket, you will probably think of tuple but in this case num_1 aka argument 1 and num_2 is argument 2. There is no limit to how many argument you can add but only add in what will be used within the function\n",
    "- return > basically after running the code within the function, what should the function return you. Do note that it is not the same as printing it as you can store the output of the function as a variable!"
   ]
  },
  {
   "cell_type": "code",
   "execution_count": 5,
   "metadata": {},
   "outputs": [
    {
     "name": "stdout",
     "output_type": "stream",
     "text": [
      "579\n"
     ]
    }
   ],
   "source": [
    "# Create a function that add 2 numbers together\n",
    "\n",
    "def add_num(num_1, num_2):\n",
    "    return num_1 + num_2\n",
    "\n",
    "# notice that i didn't create variable num_1 and num_2\n",
    "sum_1 = add_num(123, 456)\n",
    "print(sum_1)"
   ]
  },
  {
   "cell_type": "code",
   "execution_count": 6,
   "metadata": {},
   "outputs": [
    {
     "name": "stdout",
     "output_type": "stream",
     "text": [
      "90\n"
     ]
    }
   ],
   "source": [
    "num_1 = 10\n",
    "num_1 = add_num(num_1, 80)\n",
    "print(num_1)"
   ]
  },
  {
   "cell_type": "markdown",
   "metadata": {},
   "source": [
    "Using for loop with our newly created function!"
   ]
  },
  {
   "cell_type": "code",
   "execution_count": 11,
   "metadata": {},
   "outputs": [
    {
     "name": "stdout",
     "output_type": "stream",
     "text": [
      "Your answer is Right\n"
     ]
    }
   ],
   "source": [
    "# Try it yourself!\n",
    "# create a for loop that will add its index to num_1\n",
    "# num + 1 + 2 + ... + 9 + 10\n",
    "num = 5\n",
    "\n",
    "# Type your code here\n",
    "for i in range(1, 11):\n",
    "    num = add_num(num, i)\n",
    "\n",
    "\n",
    "\n",
    "\n",
    "# Ends here\n",
    "\n",
    "if num == 60:\n",
    "    answer = \"Right\"\n",
    "else:\n",
    "    answer = \"Wrong\"\n",
    "print(\"Your answer is\", answer)"
   ]
  },
  {
   "cell_type": "markdown",
   "metadata": {},
   "source": [
    "### Practice 1\n",
    "Create a function that will help us to calculate if we pass our BMI\n",
    "\n",
    "Formula of BMI > Weight(in KG) / Height^2 (in M) \n",
    "\n",
    "The criteria is as follows:\n",
    "- ≥ 30.0\tObese\n",
    "- 23.0 – 29.9\tOverweight\n",
    "- 18.5 – 22.9\tNormal\n",
    "- < 18.5\tUnderweight"
   ]
  },
  {
   "cell_type": "markdown",
   "metadata": {},
   "source": [
    "## Practice"
   ]
  },
  {
   "cell_type": "code",
   "execution_count": 13,
   "metadata": {},
   "outputs": [],
   "source": [
    "# Your BMI Calculator should return the category Obese, Overweight etc\n",
    "# Complete the code and run the cell below to test!\n",
    "def bmi_category(weight, height):\n",
    "    bmi = weight / (height**2)\n",
    "    bmi_class = \"\"\n",
    "    if bmi >= 30:\n",
    "        bmi_class = \"Obese\"\n",
    "    elif bmi >= 23:\n",
    "        bmi_class = \"Overweight\"\n",
    "    elif bmi >= 18.5:\n",
    "        bmi_class = \"Normal\"\n",
    "    else: \n",
    "        bmi_class = \"Underweight\"\n",
    "    return bmi_class"
   ]
  },
  {
   "cell_type": "code",
   "execution_count": 15,
   "metadata": {},
   "outputs": [
    {
     "name": "stdout",
     "output_type": "stream",
     "text": [
      "You are Underweight\n"
     ]
    }
   ],
   "source": [
    "weight = float(input(\"Enter your weight in KG: \"))\n",
    "height = float(input(\"Enter your height in Meters: \"))\n",
    "# Sometime where there is too many arguments you can type the argument name follow by the value!\n",
    "print(\"You are\", bmi_category(weight=weight, height= height))"
   ]
  },
  {
   "cell_type": "markdown",
   "metadata": {},
   "source": [
    "### Practice 2\n",
    "\n",
    "Create a function to find the biggest number!"
   ]
  },
  {
   "cell_type": "code",
   "execution_count": 16,
   "metadata": {},
   "outputs": [],
   "source": [
    "# Complete the function by using a loop to compare\n",
    "def biggest_num(num_list):\n",
    "    max_num = num_list[0]\n",
    "    for num in num_list:\n",
    "        if num > max_num:\n",
    "            max_num = num\n",
    "    return max_num"
   ]
  },
  {
   "cell_type": "code",
   "execution_count": 18,
   "metadata": {},
   "outputs": [
    {
     "name": "stdout",
     "output_type": "stream",
     "text": [
      "The biggest number in number list is:  1000.0\n"
     ]
    }
   ],
   "source": [
    "num_list = [1,2,34,5,6,7,89,10]\n",
    "new_num = None\n",
    "while str(new_num).lower() != \"done\":\n",
    "    new_num = input(\"Add a number to the list, type done when you want to stop! :\")\n",
    "    if str(new_num).lower() != \"done\":\n",
    "        num_list.append(float(new_num))\n",
    "\n",
    "print(\"The biggest number in number list is: \", biggest_num(num_list))"
   ]
  },
  {
   "cell_type": "markdown",
   "metadata": {},
   "source": [
    "### Practice 3\n",
    "\n",
    "Create a function to insert members data into member_database dictionary. Each member should have a dictionary of data that contain their age, gender, height, weight. Their name would be the key of the member_database\n",
    "\n",
    "Refer to the current member_database for a sample!"
   ]
  },
  {
   "cell_type": "code",
   "execution_count": 35,
   "metadata": {},
   "outputs": [],
   "source": [
    "member_database = {\n",
    "    \"John\": {\"age\": 19, \"gender\": \"Male\", \"height\":1.67, \"weight\": 56},\n",
    "    \"Lisa\": {\"age\": 27, \"gender\": \"Female\", \"height\":1.74, \"weight\": 67}\n",
    "}"
   ]
  },
  {
   "cell_type": "code",
   "execution_count": 36,
   "metadata": {},
   "outputs": [],
   "source": [
    "# complete the code\n",
    "def add_member():\n",
    "    # this is only the first helper you need more!\n",
    "    name = input(\"What is your name? :\")\n",
    "    age = float(input(\"What is your age? :\"))\n",
    "    gender = input(\"Male or Female? :\")\n",
    "    height = float(input(\"Enter your height in cm :\"))\n",
    "    weight = float(input(\"Enter your weight in kg :\"))\n",
    "    member_database[name] = {\"age\": age, \"gender\": gender, \"height\":height, \"weight\": weight}\n",
    "    return "
   ]
  },
  {
   "cell_type": "code",
   "execution_count": 37,
   "metadata": {},
   "outputs": [],
   "source": [
    "# Now with your function insert at least 2 members\n",
    "member_database = {}\n",
    "add_member()\n",
    "add_member()"
   ]
  },
  {
   "cell_type": "code",
   "execution_count": 38,
   "metadata": {},
   "outputs": [
    {
     "data": {
      "text/plain": [
       "{'John': {'age': 19.0, 'gender': 'Male', 'height': 1.67, 'weight': 56.0},\n",
       " 'Lisa': {'age': 27.0, 'gender': 'Female', 'height': 1.74, 'weight': 67.0}}"
      ]
     },
     "execution_count": 38,
     "metadata": {},
     "output_type": "execute_result"
    }
   ],
   "source": [
    "member_database"
   ]
  },
  {
   "cell_type": "markdown",
   "metadata": {},
   "source": [
    "### Practice 4"
   ]
  },
  {
   "cell_type": "markdown",
   "metadata": {},
   "source": [
    "Additional\n",
    "\n",
    "Now for each member in the member database check if the member is overweight by using the BMI calculator function you have created in Practice 1\n",
    "\n",
    "For each member you should print > [name] is [BMI Category]"
   ]
  },
  {
   "cell_type": "code",
   "execution_count": 39,
   "metadata": {},
   "outputs": [
    {
     "name": "stdout",
     "output_type": "stream",
     "text": [
      "John is Normal\n",
      "Lisa is Normal\n"
     ]
    }
   ],
   "source": [
    "# Challege yourself! to familiarize yourself with loop try doing for both\n",
    "# For loop\n",
    "for member in member_database:\n",
    "    print(member, \"is\", bmi_category(member_database[member][\"weight\"],member_database[member][\"height\"]))"
   ]
  },
  {
   "cell_type": "code",
   "execution_count": null,
   "metadata": {},
   "outputs": [],
   "source": [
    "# While loop\n"
   ]
  }
 ],
 "metadata": {
  "kernelspec": {
   "display_name": "Python 3",
   "language": "python",
   "name": "python3"
  },
  "language_info": {
   "codemirror_mode": {
    "name": "ipython",
    "version": 3
   },
   "file_extension": ".py",
   "mimetype": "text/x-python",
   "name": "python",
   "nbconvert_exporter": "python",
   "pygments_lexer": "ipython3",
   "version": "3.10.8"
  }
 },
 "nbformat": 4,
 "nbformat_minor": 2
}
