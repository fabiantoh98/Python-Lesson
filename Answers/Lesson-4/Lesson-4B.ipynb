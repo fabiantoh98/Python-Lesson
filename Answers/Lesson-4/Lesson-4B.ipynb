{
 "cells": [
  {
   "cell_type": "markdown",
   "metadata": {},
   "source": [
    "# Lesson 4B - AUTO HTML"
   ]
  },
  {
   "cell_type": "markdown",
   "metadata": {},
   "source": [
    "This is a self practice lesson to help you to convert a paragraph of text into simple html code (not a web development class)"
   ]
  },
  {
   "cell_type": "markdown",
   "metadata": {},
   "source": [
    "HTML stands for hyper text markup language which are mainly use in Web pages. There are many tools that are out there for developing website\n",
    "\n",
    "A sample of a very simple HTML Page:\n",
    "```\n",
    "<!DOCTYPE html>\n",
    "<html>\n",
    "<body>\n",
    "\n",
    "<h1>Heading </h1>\n",
    "<p>This is a paragraph of words.</p>\n",
    "\n",
    "</body>\n",
    "</html>\n",
    "```\n"
   ]
  },
  {
   "cell_type": "markdown",
   "metadata": {},
   "source": [
    "Some basics on HTML\n",
    "\n",
    "All html file will start with\n",
    "```\n",
    "<!DOCTYPE html>\n",
    "<html>\n",
    "```\n",
    "\n",
    "and ends with\n",
    "```\n",
    "<html>\n",
    "```\n",
    "\n",
    "Most tag has an open and close except for a few special ones\n",
    "An open tag looks like ```<p>```\n",
    "A close tag looks like ```</p>```"
   ]
  },
  {
   "cell_type": "markdown",
   "metadata": {},
   "source": [
    "Some of the basic tag we will look at today:\n",
    "\n",
    "```<html></html>``` : Start and end of html\n",
    "\n",
    "```<div></div>``` : A container that is usually used to store multiple html elements\n",
    "\n",
    "```<p></p>``` : A html paragraph element\n",
    "\n",
    "```<b></b>``` : A html element for you to bold a certain text, this can be used within any text (not code)\n",
    "\n",
    "```<h1></h1>``` :  A html header element, there is also h2 ... you can interpret it as h1 as the main header, h2 as sub header, h3 as ..."
   ]
  },
  {
   "cell_type": "markdown",
   "metadata": {},
   "source": [
    "Today's exercise is to convert a paragraph of text into html using python\n",
    "\n",
    "One easy way that i like to test if the html code is working properly is to copy the code, paste it on notepad and save the file with .html as the file extension. After that you can simply double click the file and it will open the html code on your default browser"
   ]
  },
  {
   "cell_type": "code",
   "execution_count": 1,
   "metadata": {},
   "outputs": [],
   "source": [
    "article = \"\"\"\n",
    "Foodie Feed: Top Trends Young Adults Are Gobbbling Up\n",
    "Yo foodies!  Diet getting dull? Tired of the same old cafeteria mystery meat?  Worry not, fellow grubby gourmands, because this article is here to dish on the hottest food trends young adults are devouring right now!\n",
    "\n",
    "1. Global Grub on the Go: Forget plain old burgers!  Young adults are craving bold, international flavors. Think Korean BBQ tacos, Filipino lumpia spring rolls, or Vietnamese Bahn Mi sandwiches.  These portable powerhouses are perfect for a quick lunch or adventurous dinner.\n",
    "\n",
    "2. Sweet & Savory Mashup Mania:  Sweet and savory combos are no longer a breakfast-only thing.  Burgers with fig jam, fries dusted with truffle oil, or watermelon and feta salad are just a few examples.  Get ready to have your tastebuds tango!\n",
    "\n",
    "3. Rainbow Revolution:  Food that looks as good as it tastes is all the rage.  Think unicorn toast with colorful fruits and edible glitter, charcoal-infused black ice cream, or rainbow bagels that would make a Skittles bag jealous.  Instagram-worthy eats are a must for today's young adults.\n",
    "\n",
    "4. Plant-Based Power:  Vegan and vegetarian options are no longer an afterthought.  From jackfruit \"pulled pork\" to plant-based burgers that sizzle like the real deal, there are delicious meatless alternatives satisfying even the most hardcore carnivores.\n",
    "\n",
    "5. DIY Bowls FTW:  Customization is king!  Build-your-own bowl restaurants are popping up everywhere, letting young adults create their dream meal with a base of quinoa, rice, or greens, then pile on toppings like roasted veggies, spicy tofu, kimchi, and all sorts of sauces.\n",
    "\n",
    "Bonus Trend: Bugs on the Menu?  Yep, you read that right!  Insects like crickets and mealworms are becoming a sustainable protein source.  While not everyone's cup of tea (or cricket?), it's a trend worth keeping an eye on.\n",
    "\n",
    "So there you have it!  The next time your stomach starts rumbling, ditch the boring and embrace these trendy eats.  Your tastebuds (and your social media feed) will thank you!\n",
    "\"\"\""
   ]
  },
  {
   "cell_type": "code",
   "execution_count": null,
   "metadata": {},
   "outputs": [],
   "source": []
  },
  {
   "cell_type": "code",
   "execution_count": null,
   "metadata": {},
   "outputs": [],
   "source": [
    "bold_word_list = [\"adventurous\", \"rainbow\", \"plant-based\", \"insects\" ,\"tastebuds\"]"
   ]
  }
 ],
 "metadata": {
  "kernelspec": {
   "display_name": "Python 3",
   "language": "python",
   "name": "python3"
  },
  "language_info": {
   "codemirror_mode": {
    "name": "ipython",
    "version": 3
   },
   "file_extension": ".py",
   "mimetype": "text/x-python",
   "name": "python",
   "nbconvert_exporter": "python",
   "pygments_lexer": "ipython3",
   "version": "3.10.8"
  }
 },
 "nbformat": 4,
 "nbformat_minor": 2
}
