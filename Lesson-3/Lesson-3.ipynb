{
 "cells": [
  {
   "cell_type": "markdown",
   "metadata": {},
   "source": [
    "# Lesson 3"
   ]
  },
  {
   "cell_type": "markdown",
   "metadata": {},
   "source": [
    "## Playing with List"
   ]
  },
  {
   "cell_type": "markdown",
   "metadata": {},
   "source": [
    "Let's us learn the basics of list by building a lucky draw game!\n",
    "\n",
    "First, create a list of lucky draw item"
   ]
  },
  {
   "cell_type": "code",
   "execution_count": 1,
   "metadata": {},
   "outputs": [],
   "source": [
    "lucky_draw_items = [\"Thank you for playing!\", \"Tissue Paper\", \"Pen\", \"$1000\",\n",
    "                    \"$5 NTUC voucher\", \"Lollipop\"]"
   ]
  },
  {
   "cell_type": "markdown",
   "metadata": {},
   "source": [
    "Introducing the function random\n",
    "\n",
    "random is a function from random package where it will return us a random value between 0 to 1 \n",
    "\n",
    "While randint will return us a random integer between the lower and upper limit (inclusive) that we have set"
   ]
  },
  {
   "cell_type": "code",
   "execution_count": 2,
   "metadata": {},
   "outputs": [
    {
     "name": "stdout",
     "output_type": "stream",
     "text": [
      "0\n"
     ]
    }
   ],
   "source": [
    "# To keep this simple, we will be using randint to create the our lucky draw system\n",
    "\n",
    "# first we need to import the randint function from random package which is pre-installed \n",
    "from random import randint\n",
    "\n",
    "# Testing the funtion, try a random lower and upper limit to play with!\n",
    "# This cell will print different output when you run multiple times since it is random\n",
    "print(randint(0,2))"
   ]
  },
  {
   "cell_type": "markdown",
   "metadata": {},
   "source": [
    "Since lucky draw is suppose to be random, we never know what we will draw. Can you think of a way to integrate randint with our lucky draw list?"
   ]
  },
  {
   "cell_type": "code",
   "execution_count": 3,
   "metadata": {},
   "outputs": [
    {
     "name": "stdout",
     "output_type": "stream",
     "text": [
      "10\n",
      "6\n"
     ]
    }
   ],
   "source": [
    "# len is a default function for us to know the length/number of item\n",
    "# When we use len on list it will return us the number of item in the list\n",
    "# Do try using len on other data type by yourself!\n",
    "\n",
    "print(len(\"Lucky Draw\"))\n",
    "print(len(lucky_draw_items))"
   ]
  },
  {
   "cell_type": "markdown",
   "metadata": {},
   "source": [
    "Integrating randint with lucky draw items!\n",
    "\n",
    "As simple as it sounds, we will basically treat the output of randint as the index for our lucky draw list"
   ]
  },
  {
   "cell_type": "code",
   "execution_count": 4,
   "metadata": {},
   "outputs": [
    {
     "name": "stdout",
     "output_type": "stream",
     "text": [
      "Drawing from Lucky Draw Dip\n",
      "You draw ... :  $5 NTUC voucher\n"
     ]
    }
   ],
   "source": [
    "# This is my preference\n",
    "# Create a variable call lucky_draw_index\n",
    "\n",
    "lucky_draw_index = randint(0, len(lucky_draw_items)-1)\n",
    "print(\"Drawing from Lucky Draw Dip\")\n",
    "print(\"You draw ... : \", lucky_draw_items[lucky_draw_index])"
   ]
  },
  {
   "cell_type": "markdown",
   "metadata": {},
   "source": [
    "Congrats, you have built you first lucky draw!\n",
    "\n",
    "But if I am your boss I will fire you because I will be losing tons of money. Imagine I need to give out $1000 on an average of every 6 draw, I will be bankrupted!"
   ]
  },
  {
   "cell_type": "code",
   "execution_count": 5,
   "metadata": {},
   "outputs": [
    {
     "name": "stdout",
     "output_type": "stream",
     "text": [
      "['Thank you for playing!', 'Tissue Paper', 'Pen', '$1000', '$5 NTUC voucher', 'Lollipop', 'Thank you for playing!']\n"
     ]
    }
   ],
   "source": [
    "# In real life there are tons of \"Thank you for playing\" so let's add more into the list!\n",
    "\n",
    "lucky_draw_items.append(\"Thank you for playing!\")\n",
    "print(lucky_draw_items)"
   ]
  },
  {
   "cell_type": "markdown",
   "metadata": {},
   "source": [
    "Now It is slightly for difficult to get $1000 since it is one in 7 chance! Do note that for each time you run the above cell \"Thank you for playing!\" will be added into the list 1 more time. Hence if you run it 100 time it will be very difficult to get a price HEHEHEHEHE!"
   ]
  },
  {
   "cell_type": "code",
   "execution_count": 6,
   "metadata": {},
   "outputs": [
    {
     "name": "stdout",
     "output_type": "stream",
     "text": [
      "Drawing from Lucky Draw Dip\n",
      "You draw ... :  $1000\n"
     ]
    }
   ],
   "source": [
    "# Notice something about this code?\n",
    "# even though we edited the list, we don't need to change this code\n",
    "# this is because of the function len which automatically change the upper limit when we add item into a list\n",
    "\n",
    "lucky_draw_index = randint(0, len(lucky_draw_items)-1)\n",
    "print(\"Drawing from Lucky Draw Dip\")\n",
    "print(\"You draw ... : \", lucky_draw_items[lucky_draw_index])"
   ]
  },
  {
   "cell_type": "markdown",
   "metadata": {},
   "source": [
    "Getting feels of OCD?\n",
    "\n",
    "I need my list to be sorted in ascending order ahhhhhhh!"
   ]
  },
  {
   "cell_type": "code",
   "execution_count": 7,
   "metadata": {},
   "outputs": [
    {
     "name": "stdout",
     "output_type": "stream",
     "text": [
      "['Thank you for playing!', 'Tissue Paper', 'Pen', '$1000', '$5 NTUC voucher', 'Lollipop', 'Thank you for playing!']\n",
      "['$1000', '$5 NTUC voucher', 'Lollipop', 'Pen', 'Thank you for playing!', 'Thank you for playing!', 'Tissue Paper']\n"
     ]
    }
   ],
   "source": [
    "print(lucky_draw_items)\n",
    "# sorted is a function where you input a list they will return a sorted list to you\n",
    "lucky_draw_items = sorted(lucky_draw_items)\n",
    "print(lucky_draw_items)"
   ]
  },
  {
   "cell_type": "markdown",
   "metadata": {},
   "source": [
    "To prevent OCD from happening one of the preventive action you can use is to use the insert rather than append function!\n",
    "\n",
    "Insert allow you to insert an item at an selected index"
   ]
  },
  {
   "cell_type": "code",
   "execution_count": 8,
   "metadata": {},
   "outputs": [
    {
     "name": "stdout",
     "output_type": "stream",
     "text": [
      "['$1000', '$5 NTUC voucher', 'Lollipop', 'M&M', 'Pen', 'Thank you for playing!', 'Thank you for playing!', 'Tissue Paper']\n"
     ]
    }
   ],
   "source": [
    "# Today our boss is feeling generous and decided to add an additional prize\n",
    "# We would like to add M&M and universal studio ticket into the prize list\n",
    "# the index will be the position you wanted to insert the item \n",
    "\n",
    "lucky_draw_items.insert(3, \"M&M\")\n",
    "print(lucky_draw_items)"
   ]
  },
  {
   "cell_type": "code",
   "execution_count": 9,
   "metadata": {},
   "outputs": [
    {
     "name": "stdout",
     "output_type": "stream",
     "text": [
      "['$1000', '$5 NTUC voucher', 'Lollipop', 'M&M', 'Pen', 'Thank you for playing!', 'Thank you for playing!', 'Tissue Paper', 'Universal Studio Ticket']\n"
     ]
    }
   ],
   "source": [
    "\n",
    "lucky_draw_items.insert(len(lucky_draw_items), \"Universal Studio Ticket\")\n",
    "print(lucky_draw_items)"
   ]
  },
  {
   "cell_type": "markdown",
   "metadata": {},
   "source": [
    "Honestly, i would have use sorted function because it is too tedious to find the position base on alphabatical order.\n",
    "\n",
    "But there will be times where this will be useful, e.g. when you want to help your friend to jump the queue to behind you even though no program will allow that \n",
    "\n",
    "Optional Exercise:\n",
    "\n",
    "test out reverse() and sort() function.\n",
    "Instead of putting the list as an arguments in the sorted function\n",
    "you will be running it like this lucky_draw_items.sort()"
   ]
  },
  {
   "cell_type": "code",
   "execution_count": 10,
   "metadata": {},
   "outputs": [
    {
     "name": "stdout",
     "output_type": "stream",
     "text": [
      "['$1000', '$5 NTUC voucher', 'Lollipop', 'M&M', 'Pen', 'Thank you for playing!', 'Thank you for playing!', 'Tissue Paper', 'Universal Studio Ticket']\n",
      "['Universal Studio Ticket', 'Tissue Paper', 'Thank you for playing!', 'Thank you for playing!', 'Pen', 'M&M', 'Lollipop', '$5 NTUC voucher', '$1000']\n"
     ]
    }
   ],
   "source": [
    "# Suddenly you received a news and boss says that $1000 and Universal Studio Ticket are too expensive\n",
    "# Go and Remove It!\n",
    "\n",
    "lucky_draw_items = ['$1000', '$5 NTUC voucher', 'Lollipop', 'M&M', 'Pen', 'Thank you for playing!',\n",
    "                     'Thank you for playing!', 'Tissue Paper', 'Universal Studio Ticket']\n",
    "\n",
    "lucky_draw_items.sort()\n",
    "print(lucky_draw_items)\n",
    "\n",
    "lucky_draw_items.reverse()\n",
    "print(lucky_draw_items)"
   ]
  },
  {
   "cell_type": "markdown",
   "metadata": {},
   "source": [
    "I will be sharing 2 ways to remove an item from a list\n",
    "\n",
    "remove allow us to remove a specific item one time from the list\n",
    "pop allow us to remove an item base on the index of the item"
   ]
  },
  {
   "cell_type": "code",
   "execution_count": 11,
   "metadata": {},
   "outputs": [
    {
     "name": "stdout",
     "output_type": "stream",
     "text": [
      "['Universal Studio Ticket', 'Tissue Paper', 'Thank you for playing!', 'Thank you for playing!', 'Pen', 'M&M', 'Lollipop', '$5 NTUC voucher', '$1000'] \n",
      "\n",
      "['Universal Studio Ticket', 'Tissue Paper', 'Thank you for playing!', 'Thank you for playing!', 'Pen', 'M&M', 'Lollipop', '$5 NTUC voucher'] \n",
      "\n",
      "['Universal Studio Ticket', 'Tissue Paper', 'Thank you for playing!', 'Thank you for playing!', 'Pen', 'M&M', 'Lollipop'] \n",
      "\n"
     ]
    }
   ],
   "source": [
    "# \\n should only be use within a string and it is also known as new line (e.g. when you press enter in word document)\n",
    "# in this case it is use to make print looks neater!\n",
    "print(lucky_draw_items, '\\n')\n",
    "\n",
    "lucky_draw_items.remove('$1000')\n",
    "print(lucky_draw_items, '\\n')\n",
    "\n",
    "lucky_draw_items.pop(len(lucky_draw_items)-1)\n",
    "print(lucky_draw_items, '\\n')"
   ]
  },
  {
   "cell_type": "code",
   "execution_count": 12,
   "metadata": {},
   "outputs": [
    {
     "name": "stdout",
     "output_type": "stream",
     "text": [
      "Drawing from Lucky Draw Dip\n",
      "You draw ... :  Lollipop\n"
     ]
    }
   ],
   "source": [
    "# Now we have a decent lucky draw! \n",
    "\n",
    "lucky_draw_index = randint(0, len(lucky_draw_items)-1)\n",
    "print(\"Drawing from Lucky Draw Dip\")\n",
    "print(\"You draw ... : \", lucky_draw_items[lucky_draw_index])"
   ]
  },
  {
   "cell_type": "markdown",
   "metadata": {},
   "source": [
    "Try it yourself!"
   ]
  },
  {
   "cell_type": "code",
   "execution_count": null,
   "metadata": {},
   "outputs": [],
   "source": [
    "# Customize your own lucky draw!\n",
    "# add a few item into the lucky draw\n",
    "# here are some ideas for you teddy bear, popcorn, free ice cream, cheese cake, red packet\n",
    "\n",
    "\n",
    "\n",
    "\n",
    "# remove a few item into the lucky draw\n",
    "\n",
    "\n",
    "\n",
    "\n",
    "# look at your lucky draw list\n",
    "print(lucky_draw_items)"
   ]
  },
  {
   "cell_type": "code",
   "execution_count": null,
   "metadata": {},
   "outputs": [],
   "source": [
    "# Test the lucky draw\n",
    "lucky_draw_index = randint(0, len(lucky_draw_items)-1)\n",
    "print(\"Drawing from Lucky Draw Dip\")\n",
    "print(\"You draw ... : \", lucky_draw_items[lucky_draw_index])"
   ]
  },
  {
   "cell_type": "markdown",
   "metadata": {},
   "source": [
    "## For Loops"
   ]
  },
  {
   "cell_type": "markdown",
   "metadata": {},
   "source": [
    "In reality lucky draw have thousands of no prize draws even though it is just press ctrl + enter on your keyboard, press a thousand of times is impossible and chances is you will lose track how many times you pressed\n",
    "\n",
    "Hence, loops comes into place and the first one we will be lokking at is a for loop"
   ]
  },
  {
   "cell_type": "markdown",
   "metadata": {},
   "source": [
    "There are a number of ways to use for loop but i will only touch on 2 main way.\n",
    "\n",
    "1. when you know exactly how many times you are looping\n",
    "2. when you are using an iterative object such as list to perform a loop (more detailed explanation later!)"
   ]
  },
  {
   "cell_type": "code",
   "execution_count": 13,
   "metadata": {},
   "outputs": [
    {
     "name": "stdout",
     "output_type": "stream",
     "text": [
      "range(0, 10)\n"
     ]
    }
   ],
   "source": [
    "# for loop with exact numbers\n",
    "# range is like a list that contain many ordered indexes\n",
    "# unfortunately it is not easy to visualize it\n",
    "print(range(0,10))\n"
   ]
  },
  {
   "cell_type": "code",
   "execution_count": 15,
   "metadata": {},
   "outputs": [
    {
     "name": "stdout",
     "output_type": "stream",
     "text": [
      "6\n",
      "7\n",
      "8\n",
      "9\n",
      "10\n",
      "11\n",
      "12\n",
      "13\n",
      "14\n",
      "15\n",
      "16\n",
      "17\n",
      "18\n",
      "19\n"
     ]
    }
   ],
   "source": [
    "# Usually a for loop syntax will look something like this\n",
    "# note that when we print index, there are exactly 10 number\n",
    "\n",
    "for index in range(6, 20):\n",
    "    print(index)"
   ]
  },
  {
   "cell_type": "code",
   "execution_count": 18,
   "metadata": {},
   "outputs": [
    {
     "name": "stdout",
     "output_type": "stream",
     "text": [
      "14\n",
      "['$1000', 'M&M', 'Pen', 'Tissue Paper', '1 for 1 bubble tea', '1 for 1 bubble tea', '1 for 1 bubble tea', '1 for 1 bubble tea', '1 for 1 bubble tea', '1 for 1 bubble tea', '1 for 1 bubble tea', '1 for 1 bubble tea', '1 for 1 bubble tea', '1 for 1 bubble tea']\n"
     ]
    }
   ],
   "source": [
    "lucky_draw_items = ['$1000', 'M&M', 'Pen', 'Tissue Paper']\n",
    "\n",
    "# in order to add in N number of draw prizes, this is how it will looks like\n",
    "\n",
    "amount = 10\n",
    "\n",
    "# the word index is just a placeholder you can actually replace it with a valid variable name\n",
    "for i in range(0, amount):\n",
    "    lucky_draw_items.append('1 for 1 bubble tea')\n",
    "print(len(lucky_draw_items))\n",
    "print(lucky_draw_items)"
   ]
  },
  {
   "cell_type": "code",
   "execution_count": 19,
   "metadata": {},
   "outputs": [
    {
     "name": "stdout",
     "output_type": "stream",
     "text": [
      "10\n"
     ]
    }
   ],
   "source": [
    "# Tips, it is difficult to keep track of the number of each prizes\n",
    "# here is a function for that!\n",
    "\n",
    "print(lucky_draw_items.count('1 for 1 bubble tea'))"
   ]
  },
  {
   "cell_type": "markdown",
   "metadata": {},
   "source": [
    "Try it yourself!\n",
    "\n",
    "Now we need the lucky draw to be practical, create a for loop to add 100 \"Thank You for Playing!\""
   ]
  },
  {
   "cell_type": "code",
   "execution_count": 20,
   "metadata": {},
   "outputs": [],
   "source": [
    "# Write the code to add in 100 \"Thank You for Playing\"\n",
    "for i in range(0,100):\n",
    "    lucky_draw_items.append(\"Thank You for Playing\")"
   ]
  },
  {
   "cell_type": "code",
   "execution_count": 21,
   "metadata": {},
   "outputs": [
    {
     "name": "stdout",
     "output_type": "stream",
     "text": [
      "Correct:  True\n"
     ]
    }
   ],
   "source": [
    "# Run this cell to check if you get it right!\n",
    "\n",
    "print(\"Correct: \", lucky_draw_items.count('Thank You for Playing') == 100)"
   ]
  },
  {
   "cell_type": "markdown",
   "metadata": {},
   "source": [
    "So previosly we say that range is like a list of indexes so we can actually replace the \"range\" part with a list!"
   ]
  },
  {
   "cell_type": "code",
   "execution_count": 22,
   "metadata": {},
   "outputs": [
    {
     "name": "stdout",
     "output_type": "stream",
     "text": [
      "Ruth has played the lucky draw one time\n",
      "Ruth draw Thank You for Playing \n",
      "\n",
      "John has played the lucky draw one time\n",
      "John draw 1 for 1 bubble tea \n",
      "\n",
      "Mark has played the lucky draw one time\n",
      "Mark draw Thank You for Playing \n",
      "\n",
      "Matthew has played the lucky draw one time\n",
      "Matthew draw Thank You for Playing \n",
      "\n",
      "Elizabeth has played the lucky draw one time\n",
      "Elizabeth draw Thank You for Playing \n",
      "\n",
      "Joshua has played the lucky draw one time\n",
      "Joshua draw Thank You for Playing \n",
      "\n"
     ]
    }
   ],
   "source": [
    "lucky_draw_participants = ['Ruth', 'John', 'Mark', 'Matthew', 'Elizabeth', 'Joshua']\n",
    "\n",
    "# Imagine in english this will means for each participant in lucky_draw_participants list, do this\n",
    "for participant in lucky_draw_participants:\n",
    "    print(participant, \"has played the lucky draw one time\")\n",
    "    lucky_draw_index = randint(0, len(lucky_draw_items)-1)\n",
    "    print(participant, \"draw\", lucky_draw_items[lucky_draw_index], \"\\n\")\n",
    "    "
   ]
  },
  {
   "cell_type": "code",
   "execution_count": 23,
   "metadata": {},
   "outputs": [
    {
     "name": "stdout",
     "output_type": "stream",
     "text": [
      "[0, 10, 20, 30, 40, 50, 60, 70, 80, 90, 100]\n"
     ]
    }
   ],
   "source": [
    "# Optional Intermediate level!\n",
    "# This is another way to use for loop\n",
    "# some of us call this inline for loop since it is a for loop in a line!\n",
    "\n",
    "number_list = [num for num in range(0,101,10)]\n",
    "print(number_list)"
   ]
  },
  {
   "cell_type": "markdown",
   "metadata": {},
   "source": [
    "## While Loops"
   ]
  },
  {
   "cell_type": "markdown",
   "metadata": {},
   "source": [
    "Sometimes, instead of knowing the exact number of times we need to repeat, we want the code to run repeatedly unless a certain condition is fulfilled\n",
    "\n",
    "The use case of while loops will be rare for beginner as for simple codes we can usually know the exact number or derive a pattern to apply a for loop.\n",
    "\n",
    "Hence, in the example below we will do something that a for loop can do first!"
   ]
  },
  {
   "cell_type": "code",
   "execution_count": null,
   "metadata": {},
   "outputs": [],
   "source": [
    "# while loop with a counter!\n",
    "# we will now perform a while loop that will print the number from 1 to 10\n",
    "\n",
    "number = 1\n",
    "while number < 11:\n",
    "    print(number)\n",
    "    number += 1\n"
   ]
  },
  {
   "cell_type": "markdown",
   "metadata": {},
   "source": [
    "Danger of while loop, when you are not careful, if may run indefinately AKA infinite loop\n",
    "\n",
    "When you face this situation click on the stop button/interrupt button at the top or press ctrl + c if you are running python on command prompt/power shell/terminal\n",
    "\n",
    "If your code require too much computing resources, usually the notebook will crash. Don't panick all you have to do is run the code from the top until the cell that is before the inifinite loop\n",
    "\n",
    "Try to fix your issue before running the cell or you will be the inifinite loop crashing your notebook again and again!"
   ]
  },
  {
   "cell_type": "code",
   "execution_count": null,
   "metadata": {},
   "outputs": [],
   "source": [
    "# Test your skills and fix while the loop\n",
    "# WARNING THIS IS AN INIFINITE LOOP!\n",
    "\n",
    "counter = 0\n",
    "lucky_draw_participants = ['Ruth', 'John', 'Mark', 'Matthew', 'Elizabeth', 'Joshua']\n",
    "\n",
    "while counter < len(lucky_draw_participants):\n",
    "    print(lucky_draw_participants[counter])\n"
   ]
  },
  {
   "cell_type": "markdown",
   "metadata": {},
   "source": [
    "Too Easy for ya?\n",
    "\n",
    "We will be exploring more stuff as we go!\n",
    "\n",
    "\n",
    "\n",
    "Getting too tough? \n",
    "\n",
    "Let me know how i can help you!"
   ]
  }
 ],
 "metadata": {
  "kernelspec": {
   "display_name": "Python 3",
   "language": "python",
   "name": "python3"
  },
  "language_info": {
   "codemirror_mode": {
    "name": "ipython",
    "version": 3
   },
   "file_extension": ".py",
   "mimetype": "text/x-python",
   "name": "python",
   "nbconvert_exporter": "python",
   "pygments_lexer": "ipython3",
   "version": "3.10.8"
  }
 },
 "nbformat": 4,
 "nbformat_minor": 2
}
