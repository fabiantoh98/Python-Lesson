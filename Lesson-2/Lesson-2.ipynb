{
 "cells": [
  {
   "cell_type": "markdown",
   "metadata": {},
   "source": [
    "# Lesson 2"
   ]
  },
  {
   "cell_type": "markdown",
   "metadata": {},
   "source": [
    "## Basic Math Operator\n"
   ]
  },
  {
   "cell_type": "markdown",
   "metadata": {},
   "source": [
    "Continuing from Lesson 1:\n",
    "\n",
    "Here are some of the common math operator that is used in python\n",
    "\n",
    "- **     -> exponent/power of\n",
    "- %      -> modulo, remainder after dividing\n",
    "- //     -> Floor divide, divide without remainder / round down after division"
   ]
  },
  {
   "cell_type": "markdown",
   "metadata": {},
   "source": [
    "Warm Up with some Math!"
   ]
  },
  {
   "cell_type": "code",
   "execution_count": null,
   "metadata": {},
   "outputs": [],
   "source": [
    "# Calculate Area of Square\n",
    "\n",
    "length = 5\n",
    "area = length * length\n",
    "print(area)"
   ]
  },
  {
   "cell_type": "code",
   "execution_count": null,
   "metadata": {},
   "outputs": [],
   "source": [
    "# Calculate volume of a cube\n",
    "\n",
    "length = 5\n",
    "# Fill in the blank below\n",
    "# hint: volume = length^3, **\n",
    "volume = \n",
    "print(volume)"
   ]
  },
  {
   "cell_type": "code",
   "execution_count": null,
   "metadata": {},
   "outputs": [],
   "source": [
    "# Try it yourself\n",
    "num_1 = 56002\n",
    "num_2 = 11000\n",
    "\n",
    "# find the remainder of num_1 divide by num_2\n",
    "remainder = \n",
    "print(remainder)\n",
    "\n",
    "# find the quotient (number without remainder) of num_1 divide by num_2\n",
    "quotient = \n",
    "print(quotient)"
   ]
  },
  {
   "cell_type": "markdown",
   "metadata": {},
   "source": [
    "## Input\n",
    "Input is a simple UI on python console where you can store a value entered by a user as a variable."
   ]
  },
  {
   "cell_type": "markdown",
   "metadata": {},
   "source": [
    "For example we want create a piece a code to help runner to calculate their speed in m/s.\n",
    "\n",
    "The string within the input will look like a question for the user as shown below.\n",
    "\n",
    "Run the below code and input some numbers\n",
    "\n",
    "*You may try with other data type but most likely an error will pop out"
   ]
  },
  {
   "cell_type": "code",
   "execution_count": null,
   "metadata": {},
   "outputs": [],
   "source": [
    "distance = float(input(\"How far did you ran in meters? \"))\n",
    "time_taken = float(input(\"What is the total time taken in seconds? \"))\n",
    "speed = distance / time_taken\n",
    "\n",
    "print(\"You are running at an average speed of \", speed, \" m/s\")"
   ]
  },
  {
   "cell_type": "markdown",
   "metadata": {},
   "source": [
    "New Stuff: notice that the within the print we have 2 string and 1 float. within the print statement there are multiple way to combine the inputs.\n",
    "\n",
    "Some commonly use methods\n",
    "- separate by comma (see above) #Beginner friendly\n",
    "- f string\n",
    "- format function"
   ]
  },
  {
   "cell_type": "code",
   "execution_count": null,
   "metadata": {},
   "outputs": [],
   "source": [
    "# f string\n",
    "# when you need to use variable within the string enquote it with curly bracket {}\n",
    "print(f\"You are running at an average speed of {speed} m/s\")\n",
    "\n",
    "# format function\n",
    "# at the postion you would like to insert ther variable put curly bracket as the placeholder\n",
    "# for each pair of curly brackets you have, please assign one variable/data as an argument within the function\n",
    "print(\"You are running at an average speed of {} m/s\".format(speed))"
   ]
  },
  {
   "cell_type": "markdown",
   "metadata": {},
   "source": [
    "## Index"
   ]
  },
  {
   "cell_type": "markdown",
   "metadata": {},
   "source": [
    "Imagine a list of fruit [\"apple\", \"orange\", \"banana\", \"mango\", \"lychee\"]\n",
    "\n",
    "\"banana\" is the 3rd fruit in the list and 3rd refers to the index. However, many programming language including python start counting from 0 instead of 1 hence the 3rd item will have an index of 2"
   ]
  },
  {
   "cell_type": "code",
   "execution_count": null,
   "metadata": {},
   "outputs": [],
   "source": [
    "# Create a variable call fruit basket\n",
    "fruit_basket = [\"apple\", \"orange\", \"banana\", \"mango\", \"lychee\"]\n",
    "\n",
    "# print the 2nd (index = 1) fruit \n",
    "print(fruit_basket[1])"
   ]
  },
  {
   "cell_type": "code",
   "execution_count": null,
   "metadata": {},
   "outputs": [],
   "source": [
    "# What is the result if we retrieve the index from a string?\n",
    "country = \"Singapore\"\n",
    "print(country[0])"
   ]
  },
  {
   "cell_type": "markdown",
   "metadata": {},
   "source": [
    "There will be time where you would want multiple item\n",
    "\n",
    "Notice that even though Mango has an index of 3 but the upper limit is 4. In python when we \"slice\" data using idex, the first number will be included and the second number will be excluded\n",
    "\n",
    "slice\n",
    "- retrieve single item > [index]\n",
    "- retrieve a range > [lower limit : upper limit]"
   ]
  },
  {
   "cell_type": "code",
   "execution_count": null,
   "metadata": {},
   "outputs": [],
   "source": [
    "# to get 2nd to 4th fruit it will be \n",
    "print(fruit_basket[1:4])"
   ]
  },
  {
   "cell_type": "code",
   "execution_count": null,
   "metadata": {},
   "outputs": [],
   "source": [
    "# Try it yourself\n",
    "# print the 1st to 3rd fruit\n"
   ]
  },
  {
   "cell_type": "code",
   "execution_count": null,
   "metadata": {},
   "outputs": [],
   "source": [
    "# Try it yourself\n",
    "# print the 1st 3 letters of country\n",
    "country = \"Singapore\"\n"
   ]
  },
  {
   "cell_type": "markdown",
   "metadata": {},
   "source": [
    "When we use negative index we will reverse the order of the list\n",
    "\n",
    "for exmaple -1 will be the last item and -2 will be the second last item. \n",
    "\n",
    "Beginner should try to avoid using a range with negative number or at least try testing it a few times before using it as the main part of your code"
   ]
  },
  {
   "cell_type": "code",
   "execution_count": null,
   "metadata": {},
   "outputs": [],
   "source": [
    "# Advance level\n",
    "# Try it yourself, what will happen if we use negative index?\n",
    "print(fruit_basket[-2])"
   ]
  },
  {
   "cell_type": "code",
   "execution_count": null,
   "metadata": {},
   "outputs": [],
   "source": [
    "# Advance level - not commonly used\n",
    "# The thrid number represent steps\n",
    "# a step of 2 will skip one item before going to the next\n",
    "\n",
    "print(fruit_basket[0:5:2])"
   ]
  },
  {
   "cell_type": "markdown",
   "metadata": {},
   "source": [
    "## Keys"
   ]
  },
  {
   "cell_type": "markdown",
   "metadata": {},
   "source": [
    "In Lesson 1 the only data type that uses key-value pair is dictionary\n",
    "\n",
    "Similar to list, in dictionary in order to retrieve the value we will use key to retrieve it's respective value"
   ]
  },
  {
   "cell_type": "code",
   "execution_count": null,
   "metadata": {},
   "outputs": [],
   "source": [
    "# Here is a simple dictionary\n",
    "member_data = {\n",
    "    \"name\" : \"John\",\n",
    "    \"age\" : 18,\n",
    "    \"weight\" : 76.4,\n",
    "    \"membership type\": \"Premium\",\n",
    "    \"price\": 178.9,\n",
    "    \"instructor\": None\n",
    "    }\n",
    "\n",
    "# we can retrieve the value from dictionary when we slice the data by key\n",
    "print(member_data[\"membership type\"])\n"
   ]
  },
  {
   "cell_type": "code",
   "execution_count": null,
   "metadata": {},
   "outputs": [],
   "source": [
    "# replace the key in the print function below with the value from the dictionary\n",
    "\n",
    "print(name, \"is\", age, \"years old.\", \"He is\", weight, \"kg.\")\n",
    "print(\"He subscribe to our\", membership type, \"membership and he need to pay\", price, \"a month\")"
   ]
  },
  {
   "cell_type": "markdown",
   "metadata": {},
   "source": [
    "## Comparison Operators"
   ]
  },
  {
   "cell_type": "markdown",
   "metadata": {},
   "source": [
    "Notice in the above example we didn't mention about the comparison/boolean operator.\n",
    "\n",
    "- ==     -> compare if 2 value is equal\n",
    "- !=     -> compare if 2 value is not equal to each other\n",
    "- <,  >  -> smaller than, bigger than\n",
    "- <=, >= -> smaller than or equal to, bigger than or equal to\n",
    "- not    -> invert a boolean e.g not(True) = False\n",
    "- and    -> require all conditions to be True if not it will be consider False\n",
    "- or     -> at least 1 condition is True to be considered True\n",
    "\n",
    "The way to use boolean is like coming with a question and ask python is it True or False? These operator will be used to formulate your questions!"
   ]
  },
  {
   "cell_type": "code",
   "execution_count": null,
   "metadata": {},
   "outputs": [],
   "source": [
    "# Comparing if 2 value is equal\n",
    "print(1 == 1)"
   ]
  },
  {
   "cell_type": "code",
   "execution_count": null,
   "metadata": {},
   "outputs": [],
   "source": [
    "# Comparing if 2 value is not equal\n",
    "# This is True because the integer 1 is not the same as string 1!\n",
    "print(1 != \"1\")"
   ]
  },
  {
   "cell_type": "code",
   "execution_count": null,
   "metadata": {},
   "outputs": [],
   "source": [
    "# Greater/lesser than\n",
    "print(\"is 100 bigger than 10.0 :\", 100 > 10.0)\n",
    "print(\"is 1 smaller than 10.0 :\", 1 < 10.0)\n"
   ]
  },
  {
   "cell_type": "code",
   "execution_count": null,
   "metadata": {},
   "outputs": [],
   "source": [
    "# Greater/lesser than or equal to\n",
    "print(\"is 100 bigger than or equal to 100.0 :\", 100 >= 100.0)\n",
    "print(\"is 1 smaller than or equal to 1.0 :\", 1 <= 1.0)\n"
   ]
  },
  {
   "cell_type": "code",
   "execution_count": null,
   "metadata": {},
   "outputs": [],
   "source": [
    "# not is basically reverse\n",
    "hungry = True\n",
    "print(\"Am I hungry?:\", not(hungry))"
   ]
  },
  {
   "cell_type": "markdown",
   "metadata": {},
   "source": [
    "Assuming that smart people need high iq and gpa, below would be an example of how we code it. And will take both boolean into consideration and only if it all the criteria return True, then the person will be known as smart"
   ]
  },
  {
   "cell_type": "code",
   "execution_count": null,
   "metadata": {},
   "outputs": [],
   "source": [
    "# and require all conditions to be True if not it will be consider False\n",
    "# try changing the value of iq and gpa to understand how and works!\n",
    "\n",
    "iq = 110\n",
    "gpa = 3.9\n",
    "smart = iq >= 130 and gpa > 3.6 \n",
    "print(\"Am I smart?:\", smart)"
   ]
  },
  {
   "cell_type": "markdown",
   "metadata": {},
   "source": [
    "Some people might have high iq but didn't study or the iq test might be inaccurate. So the above method might lose out in finding potential talented people. Hence Or come into place"
   ]
  },
  {
   "cell_type": "code",
   "execution_count": null,
   "metadata": {},
   "outputs": [],
   "source": [
    "# or need at least 1 condition is True to be considered True\n",
    "# try changing the value of iq and gpa to understand how and works!\n",
    "\n",
    "iq = 110\n",
    "gpa = 3.9\n",
    "talented = iq >= 130 or gpa > 3.6 \n",
    "print(\"Am I talented?:\", talented)"
   ]
  },
  {
   "cell_type": "markdown",
   "metadata": {},
   "source": [
    "Hope you are not thinking that it is only limited to 2 requirements:\n",
    "\n",
    "Here are more complicated comparison for you!"
   ]
  },
  {
   "cell_type": "code",
   "execution_count": null,
   "metadata": {},
   "outputs": [],
   "source": [
    "# multiple condition conditions\n",
    "eng_score = 76\n",
    "math_score = 97\n",
    "sci_score = 98\n",
    "total_score = eng_score + math_score + sci_score\n",
    "\n",
    "scholarship = total_score >= 270 and eng_score >= 78 and math_score >= 90 and sci_score >= 90 \n",
    "\n",
    "print(\"My total score is\", total_score)\n",
    "print(\"Can i get scholarship?:\", scholarship)"
   ]
  },
  {
   "cell_type": "code",
   "execution_count": null,
   "metadata": {},
   "outputs": [],
   "source": [
    "# Combining and and or\n",
    "# Notice that even though eng_score is less than 78, I can still get scholarship\n",
    "# This is because my total_score is more than 270 so True or False = True\n",
    "eng_score = 76\n",
    "math_score = 97\n",
    "sci_score = 98\n",
    "total_score = eng_score + math_score + sci_score\n",
    "\n",
    "scholarship = total_score >= 270 or (eng_score >= 78 and math_score >= 90 and sci_score >= 90) \n",
    "\n",
    "print(\"My total score is\", total_score)\n",
    "print(\"Can i get scholarship?:\", scholarship)"
   ]
  },
  {
   "cell_type": "code",
   "execution_count": null,
   "metadata": {},
   "outputs": [],
   "source": [
    "# There are still other type of comparison operator\n",
    "# one common one is in where we check if a value is in a list\n",
    "\n",
    "cakes = [\"brownie\", \"strawberry shortcake\", \"mille feuille\", \"Ice Cream Cake\"]\n",
    "\n",
    "print(\"Is cheese cake one of the cakes?:\", \"cheesecake\" in cakes)\n",
    "print(\"Is brownie one of the cakes?:\", \"brownie\" in cakes)\n"
   ]
  },
  {
   "cell_type": "code",
   "execution_count": null,
   "metadata": {},
   "outputs": [],
   "source": [
    "# Think of some real life situation, create these variables\n",
    "# minic these situations using various boolean operators!\n",
    "\n"
   ]
  }
 ],
 "metadata": {
  "kernelspec": {
   "display_name": "Python 3",
   "language": "python",
   "name": "python3"
  },
  "language_info": {
   "codemirror_mode": {
    "name": "ipython",
    "version": 3
   },
   "file_extension": ".py",
   "mimetype": "text/x-python",
   "name": "python",
   "nbconvert_exporter": "python",
   "pygments_lexer": "ipython3",
   "version": "3.10.8"
  }
 },
 "nbformat": 4,
 "nbformat_minor": 2
}
