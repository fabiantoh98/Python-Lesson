{
 "cells": [
  {
   "cell_type": "markdown",
   "metadata": {},
   "source": [
    "# Lesson 5"
   ]
  },
  {
   "cell_type": "markdown",
   "metadata": {},
   "source": [
    "## Exiting a loop"
   ]
  },
  {
   "cell_type": "markdown",
   "metadata": {},
   "source": [
    "- break - end the loop\n",
    "- continue - skip the iteration\n",
    "- pass - does nothing, just like placeholder (we will skip this)\n",
    "\n",
    "https://www.geeksforgeeks.org/break-continue-and-pass-in-python/"
   ]
  },
  {
   "cell_type": "markdown",
   "metadata": {},
   "source": [
    "Imagine below is a list of actions taken\n",
    "\n",
    "Notice that there is an accident that occur at index 4?\n",
    "\n",
    "Now we simulate a list of real life actions!"
   ]
  },
  {
   "cell_type": "code",
   "execution_count": null,
   "metadata": {},
   "outputs": [],
   "source": [
    "action_list = [\"eat\", \"run\", \"jump\", \"walk\", \"accident\", \"eat\", \"walk\", \"jump\", \"eat\", \"eat\", \"sleep\", \"walk\", \"eat\"]"
   ]
  },
  {
   "cell_type": "markdown",
   "metadata": {},
   "source": [
    "When we break the loop, it is as if the person cannot continue their action (die, coma etc)"
   ]
  },
  {
   "cell_type": "code",
   "execution_count": null,
   "metadata": {},
   "outputs": [],
   "source": [
    "for action in action_list:\n",
    "    if action == \"accident\":\n",
    "        print(\"Dead\")\n",
    "        break\n",
    "    print(action)\n",
    "    "
   ]
  },
  {
   "cell_type": "markdown",
   "metadata": {},
   "source": [
    "continue on the other hand is like after the accident the person cannot perform an action so it will be \"skipped\"\n",
    "\n",
    "Notice after the accident jump and run is being skipped but the loop continues!\n",
    "\n",
    "So you may asked why do you need continue if we are not doing anything? Try removing the word continue and sees what happens"
   ]
  },
  {
   "cell_type": "code",
   "execution_count": null,
   "metadata": {},
   "outputs": [],
   "source": [
    "is_crippled = False\n",
    "for action in action_list:\n",
    "    if action == \"accident\":\n",
    "        is_crippled = True\n",
    "    \n",
    "    if is_crippled:\n",
    "        if action == \"run\" or action == \"jump\":\n",
    "            # Don't do anything\n",
    "            continue\n",
    "        else:\n",
    "            print(action)\n",
    "    else:\n",
    "        print(action)"
   ]
  },
  {
   "cell_type": "markdown",
   "metadata": {},
   "source": [
    "## Try and Except"
   ]
  },
  {
   "cell_type": "markdown",
   "metadata": {},
   "source": [
    "Errors are really daunting for beginners. \n",
    "\n",
    "Unfortunately it is bread and butter for all programmer.\n",
    "\n",
    "That why we need to \"try\" the code and understand what happen"
   ]
  },
  {
   "cell_type": "code",
   "execution_count": null,
   "metadata": {},
   "outputs": [],
   "source": [
    "# Here are some codes that looks kinda right but it isn't\n",
    "\n",
    "nric = \"S9312423P\"\n",
    "for index in range(0, 10):\n",
    "    print(\"character\", index + 1, \"of NRIC is\", nric[index])\n",
    "\n",
    "print(\"Job Completed\")"
   ]
  },
  {
   "cell_type": "code",
   "execution_count": null,
   "metadata": {},
   "outputs": [],
   "source": [
    "# Now with try and except\n",
    "# Notice how the code didn't run into an error and continue the last part?\n",
    "\n",
    "try:\n",
    "    nric = \"S9312423P\"\n",
    "    for index in range(0, 10):\n",
    "        print(\"character\", index + 1, \"of NRIC is\", nric[index])\n",
    "except Exception as e:\n",
    "    print(e, '\\n')\n",
    "\n",
    "print(\"Job Completed\")"
   ]
  },
  {
   "cell_type": "markdown",
   "metadata": {},
   "source": [
    "There are many types of exception and we can handle the exceptions accordingly"
   ]
  },
  {
   "cell_type": "markdown",
   "metadata": {},
   "source": [
    "Mini Exercise\n",
    "\n",
    "Complete the function below to get the year the person is born in\n",
    "\n",
    "For simplcity we will only use S and T type ic\n",
    "\n",
    "e.g. if S97xxxxxP return 1997\n",
    "\n",
    "if T03xxxxxP return 2003"
   ]
  },
  {
   "cell_type": "code",
   "execution_count": null,
   "metadata": {},
   "outputs": [],
   "source": [
    "def get_birth_year_from_nric(nric):\n",
    "    birth_year = int(nric[1:3])\n",
    "\n",
    "    return birth_year"
   ]
  },
  {
   "cell_type": "code",
   "execution_count": null,
   "metadata": {},
   "outputs": [],
   "source": [
    "# Test if your function works!\n",
    "\n",
    "print(\"Test Case 1:\", get_birth_year_from_nric(\"S9842352P\") == 1998)\n",
    "print(\"Test Case 2:\", get_birth_year_from_nric(\"T1745128P\") == 2017)"
   ]
  },
  {
   "cell_type": "code",
   "execution_count": null,
   "metadata": {},
   "outputs": [],
   "source": [
    "test_cases = [\"S9842352P\", \"TT2145372P\", \"T1745128P\", \"S6137572P\", \"S8023452P\"]\n",
    "\n",
    "for nric in test_cases:\n",
    "    try:\n",
    "        print(f\"NRIC: {nric} birth year is {get_birth_year_from_nric(nric)}\")\n",
    "    except ValueError as ve:\n",
    "        print(\"Please make sure that the second and third character is an integer\")\n"
   ]
  },
  {
   "cell_type": "markdown",
   "metadata": {},
   "source": [
    "Practising writing of codes!\n",
    "\n"
   ]
  },
  {
   "cell_type": "code",
   "execution_count": null,
   "metadata": {},
   "outputs": [],
   "source": []
  }
 ],
 "metadata": {
  "kernelspec": {
   "display_name": "Python 3",
   "language": "python",
   "name": "python3"
  },
  "language_info": {
   "codemirror_mode": {
    "name": "ipython",
    "version": 3
   },
   "file_extension": ".py",
   "mimetype": "text/x-python",
   "name": "python",
   "nbconvert_exporter": "python",
   "pygments_lexer": "ipython3",
   "version": "3.10.8"
  }
 },
 "nbformat": 4,
 "nbformat_minor": 2
}
